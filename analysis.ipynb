{
 "cells": [
  {
   "cell_type": "code",
   "execution_count": null,
   "metadata": {},
   "outputs": [],
   "source": [
    "# Importing necessary libraries\n",
    "import pandas as pd\n",
    "import matplotlib.pyplot as plt\n",
    "import seaborn as sns\n",
    "\n",
    "sns.set_style('whitegrid')\n",
    "\n",
    "# Load the datasets\n",
    "local_file_path = 'data/times_local.csv'\n",
    "cluster_file_path = 'data/times_cluster.csv'\n",
    "\n",
    "df_local = pd.read_csv(local_file_path)\n",
    "df_cluster = pd.read_csv(cluster_file_path)\n",
    "\n",
    "# Display the first few rows of each DataFrame\n",
    "df_local.head(), df_cluster.head()\n"
   ]
  },
  {
   "cell_type": "code",
   "execution_count": 4,
   "metadata": {},
   "outputs": [
    {
     "name": "stdout",
     "output_type": "stream",
     "text": [
      "<class 'pandas.core.frame.DataFrame'>\n",
      "RangeIndex: 20 entries, 0 to 19\n",
      "Data columns (total 8 columns):\n",
      " #   Column          Non-Null Count  Dtype  \n",
      "---  ------          --------------  -----  \n",
      " 0   Program         20 non-null     object \n",
      " 1   Key             20 non-null     int64  \n",
      " 2   Plaintext       20 non-null     object \n",
      " 3   Search_Phrase   20 non-null     object \n",
      " 4   Key_Found       20 non-null     int64  \n",
      " 5   Decrypted_Text  20 non-null     object \n",
      " 6   Execution_Time  20 non-null     float64\n",
      " 7   Machine         20 non-null     object \n",
      "dtypes: float64(1), int64(2), object(5)\n",
      "memory usage: 1.4+ KB\n"
     ]
    }
   ],
   "source": [
    "#  Remove spaces from column names\n",
    "df_local.columns = df_local.columns.str.strip()\n",
    "df_cluster.columns = df_cluster.columns.str.strip()\n",
    "\n",
    "# Add a 'Machine' column to identify the source\n",
    "df_local['Machine'] = 'Local'\n",
    "df_cluster['Machine'] = 'Cluster'\n",
    "\n",
    "df_combined = pd.concat([df_local, df_cluster], ignore_index=True)\n",
    "\n",
    "# Convert Execution_Time to numeric in case of any format issues\n",
    "df_combined['Execution_Time'] = pd.to_numeric(df_combined['Execution_Time'], errors='coerce')\n",
    "\n",
    "df_combined.info()\n"
   ]
  },
  {
   "cell_type": "code",
   "execution_count": 5,
   "metadata": {},
   "outputs": [
    {
     "data": {
      "text/plain": [
       "Program           0\n",
       "Key               0\n",
       "Plaintext         0\n",
       "Search_Phrase     0\n",
       "Key_Found         0\n",
       "Decrypted_Text    0\n",
       "Execution_Time    0\n",
       "Machine           0\n",
       "dtype: int64"
      ]
     },
     "execution_count": 5,
     "metadata": {},
     "output_type": "execute_result"
    }
   ],
   "source": [
    "# Summary statistics\n",
    "df_combined.describe()\n",
    "\n",
    "# Checking for missing values\n",
    "df_combined.isnull().sum()"
   ]
  }
 ],
 "metadata": {
  "kernelspec": {
   "display_name": "Python 3",
   "language": "python",
   "name": "python3"
  },
  "language_info": {
   "codemirror_mode": {
    "name": "ipython",
    "version": 3
   },
   "file_extension": ".py",
   "mimetype": "text/x-python",
   "name": "python",
   "nbconvert_exporter": "python",
   "pygments_lexer": "ipython3",
   "version": "3.10.14"
  }
 },
 "nbformat": 4,
 "nbformat_minor": 2
}
